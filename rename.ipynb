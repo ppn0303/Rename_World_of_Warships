{
 "cells": [
  {
   "cell_type": "code",
   "execution_count": 1,
   "id": "c4fad8b6-4b69-490a-9bc1-d5c7a0c16580",
   "metadata": {},
   "outputs": [],
   "source": [
    "import os\n",
    "import sys\n",
    "import polib\n",
    "import glob\n",
    "import time\n",
    "import pandas as pd\n",
    "import numpy as np"
   ]
  },
  {
   "cell_type": "code",
   "execution_count": 2,
   "id": "e3101903-385b-44b7-a9c1-f5e8b07a7139",
   "metadata": {},
   "outputs": [],
   "source": [
    "# load mo file\n",
    "mo_file = polib.mofile('global.mo')"
   ]
  },
  {
   "cell_type": "code",
   "execution_count": 3,
   "id": "6a80d3fd-e2c6-439c-9a84-f441095e7476",
   "metadata": {},
   "outputs": [],
   "source": [
    "# extract origin global.mo to txt file\n",
    "with open('origin_global_mo.txt', \"w\") as file:\n",
    "    for num, line in enumerate(mo_file):\n",
    "        result = line\n",
    "        file.write(str(num)+' '+line.msgid+' '+line.msgstr+\"\\n\")\n",
    "file.close()"
   ]
  },
  {
   "cell_type": "code",
   "execution_count": 4,
   "id": "5acee1e5-793e-41ad-a4be-a71fc3c28d26",
   "metadata": {},
   "outputs": [],
   "source": [
    "# load name_list\n",
    "names = pd.read_csv('name_list.csv')"
   ]
  },
  {
   "cell_type": "code",
   "execution_count": 5,
   "id": "a74bd3c1-ace0-4470-8d09-f955f2196880",
   "metadata": {
    "scrolled": true
   },
   "outputs": [
    {
     "name": "stdout",
     "output_type": "stream",
     "text": [
      "Ashley Violet -> Hayase Yuuka\n",
      "Philippe Auboyneau -> Gawr Gura\n",
      "Azuma -> Azuma\n",
      "저팔계 -> Nanashi Mumei\n",
      "범블비 -> Watson (Kimono)\n",
      "Cap -> Iochi Mari (Gym)\n",
      "Andrew Cunningham -> Misono Mika\n",
      "Dasha Perova -> Yuzuriha Inori\n",
      "Dave Mustaine -> RFB2\n",
      "Dà Róng -> K-2\n",
      "Klaas Janssen -> Shana\n",
      "Jack Dunkirk -> Howe\n",
      "Erich Bey -> Sorasaki Hina (Swim)\n",
      "Feuerputz -> Amau Ako\n",
      "Charles-Henri Honoré -> Marie Rose\n",
      "Jean-Jacques Honoré -> Takanashi Hoshino\n",
      "Fernand Lacroix -> Le Malin\n",
      "Shirakami Fubuki -> Shirakami Fubuki\n",
      "William F. Halsey Jr. -> Enterprise\n",
      "Kirishima (Yotaroh) -> Sendai\n",
      "Nikolay Kuznetsov -> 9A-91\n",
      "Statue of Liberty -> Watson (Dress)\n",
      "Lindwurm -> Z-23 (Wedding)\n",
      "유비 -> Shinjo Akane\n",
      "Günther Lütjens -> Sorasaki Hina\n",
      "메가트론 -> Weser (Dress)\n",
      "Mephala -> Sirasu Azusa\n",
      "The Mighty Jingles -> Reines Archisorte\n",
      "Minakami Shiori -> Minakami Shiori\n",
      "Quán Róng -> Sunohara Shun (Loli)\n",
      "Raizō Suzuki -> Zuikaku\n",
      "럼블 -> Elemental Master\n",
      "Vasiliy Znamensky -> Plana\n",
      "Colin Clydebank -> Iochi Mari\n",
      "Luigi Sansonetti -> Minato Aqua\n",
      "Père Noël -> Emilia (Santa)\n",
      "Weihnachtsmann -> Emilia (Santa)\n",
      "Babbo Natale -> Babbo Natale\n",
      "Santa -> Santa\n",
      "Santa -> Mizuhara Chizuru (Santa)\n",
      "Santa Claus -> Emilia (Santa)\n",
      "Santa Claus -> Santa Claus\n",
      "Scrooge Nicholson -> Misono Mika\n",
      "John Doe -> RFB\n",
      "스타스크림 -> Weser\n",
      "Takeo Suzuki -> Suzutsuki\n",
      "Theodore E. Chandler -> Hayase Yuuka (Gym)\n",
      "TheRussianBadger -> Hanaoka Yuzu\n",
      "Bert Dunkirk -> Misono Mika\n",
      "George Doe -> M4\n",
      "Arthas Roqthar the Cold -> Chokai\n",
      "Welthund -> Natsume Iroha\n",
      "Yamamoto Isoroku -> Kamisato Ayaka\n",
      "이순신 -> 이순신\n"
     ]
    }
   ],
   "source": [
    "count = 0\n",
    "for num, line in enumerate(mo_file):\n",
    "    if (line.msgid==names.msgid).any():\n",
    "        list_number = np.where(line.msgid==names.msgid)[0][0]\n",
    "        print(f'{line.msgstr} -> {names.msgstr_new[list_number]}')\n",
    "        line.msgstr = names.msgstr_new[list_number]\n",
    "        count += 1"
   ]
  },
  {
   "cell_type": "code",
   "execution_count": 6,
   "id": "f826d975-b9b1-4354-a8f8-0b4e94442f98",
   "metadata": {},
   "outputs": [
    {
     "name": "stdout",
     "output_type": "stream",
     "text": [
      "change name list : 54, changed list : 54\n"
     ]
    }
   ],
   "source": [
    "print(f'change name list : {len(names)}, changed list : {count}')"
   ]
  },
  {
   "cell_type": "code",
   "execution_count": 7,
   "id": "7f7f90bf-ea2f-40a6-aa05-fd84b5789406",
   "metadata": {},
   "outputs": [],
   "source": [
    "# save global.mo.\n",
    "# I recommand other name because sometime we lost original data\n",
    "mo_file.save('global_2.mo')"
   ]
  },
  {
   "cell_type": "code",
   "execution_count": null,
   "id": "0bb0f746-3f9a-405c-955b-13ffca33c858",
   "metadata": {},
   "outputs": [],
   "source": []
  }
 ],
 "metadata": {
  "kernelspec": {
   "display_name": "Python 3 (ipykernel)",
   "language": "python",
   "name": "python3"
  },
  "language_info": {
   "codemirror_mode": {
    "name": "ipython",
    "version": 3
   },
   "file_extension": ".py",
   "mimetype": "text/x-python",
   "name": "python",
   "nbconvert_exporter": "python",
   "pygments_lexer": "ipython3",
   "version": "3.10.13"
  }
 },
 "nbformat": 4,
 "nbformat_minor": 5
}
